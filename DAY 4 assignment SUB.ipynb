{
 "cells": [
  {
   "cell_type": "markdown",
   "metadata": {},
   "source": [
    "# Questions 1:\n",
    "\n",
    "How to import pandas and check the version?"
   ]
  },
  {
   "cell_type": "code",
   "execution_count": null,
   "metadata": {},
   "outputs": [],
   "source": [
    "import pandas as pd    # importing\n",
    "print(pd.__version__)  # checking version"
   ]
  },
  {
   "cell_type": "markdown",
   "metadata": {},
   "source": [
    "# Questions 2:\n",
    "\n",
    "How to create a series from a numpy array?"
   ]
  },
  {
   "cell_type": "code",
   "execution_count": null,
   "metadata": {},
   "outputs": [],
   "source": [
    "import numpy as np\n",
    "import pandas as pd\n",
    "n=int(input(\"Enter range for array : \"))\n",
    "arr=np.arange(n)   \n",
    "print(\"The array : \",arr)\n",
    "\n",
    "series=pd.Series(arr)   # creating series from array\n",
    "print(\"The converted series is : \",series)\n",
    "print(type(series))\n"
   ]
  },
  {
   "cell_type": "markdown",
   "metadata": {},
   "source": [
    "# Questions 3:\n",
    "\n",
    "How to convert the index of a series into a column of a dataframe?"
   ]
  },
  {
   "cell_type": "code",
   "execution_count": null,
   "metadata": {},
   "outputs": [],
   "source": []
  },
  {
   "cell_type": "markdown",
   "metadata": {},
   "source": [
    "# Questions 4:\n",
    "\n",
    "Write the code to list all the datasets available in seaborn library.\n",
    "\n",
    "Load the 'mpg' dataset"
   ]
  },
  {
   "cell_type": "code",
   "execution_count": null,
   "metadata": {},
   "outputs": [],
   "source": [
    "import seaborn as sb\n",
    "import pandas as pd\n",
    "\n",
    "print(sb.get_dataset_names())     # code to list all the datasets available in seaborn library."
   ]
  },
  {
   "cell_type": "code",
   "execution_count": null,
   "metadata": {},
   "outputs": [],
   "source": [
    "mpg= sns.load_dataset('mpg')      # Loading the 'mpg' dataset\n",
    "print(mpg)"
   ]
  },
  {
   "cell_type": "markdown",
   "metadata": {},
   "source": [
    "# Questions 5:\n",
    "\n",
    "Which country origin cars are a part of this dataset?"
   ]
  },
  {
   "cell_type": "code",
   "execution_count": null,
   "metadata": {},
   "outputs": [],
   "source": [
    "import seaborn as sb\n",
    "mpg= sns.load_dataset('mpg')\n",
    "mpg['origin'].unique()"
   ]
  },
  {
   "cell_type": "markdown",
   "metadata": {},
   "source": [
    "# Questions 6:\n",
    "\n",
    "Extract the part of the dataframe which contains cars belonging to 'usa'"
   ]
  },
  {
   "cell_type": "code",
   "execution_count": null,
   "metadata": {},
   "outputs": [],
   "source": [
    "import seaborn as sb\n",
    "import pandas as pd\n",
    "mpg=sb.load_dataset('mpg')\n",
    "df=pd.DataFrame(mpg)\n",
    "\n",
    "df[df['origin'].str.contains(\"usa\")]"
   ]
  }
 ],
 "metadata": {
  "kernelspec": {
   "display_name": "Python 3",
   "language": "python",
   "name": "python3"
  },
  "language_info": {
   "codemirror_mode": {
    "name": "ipython",
    "version": 3
   },
   "file_extension": ".py",
   "mimetype": "text/x-python",
   "name": "python",
   "nbconvert_exporter": "python",
   "pygments_lexer": "ipython3",
   "version": "3.8.3"
  }
 },
 "nbformat": 4,
 "nbformat_minor": 4
}
