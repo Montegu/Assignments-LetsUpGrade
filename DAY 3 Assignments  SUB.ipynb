{
 "cells": [
  {
   "cell_type": "markdown",
   "metadata": {},
   "source": [
    "# Questions 1:\n",
    "\n",
    "Create a numpy array starting from 2 till 50 with a stepsize of 3.\n"
   ]
  },
  {
   "cell_type": "code",
   "execution_count": null,
   "metadata": {},
   "outputs": [],
   "source": [
    "import numpy as np\n",
    "arr=np.array(range(2,51,3))\n",
    "arr\n",
    "print(np.arange(2,51,3))"
   ]
  },
  {
   "cell_type": "markdown",
   "metadata": {},
   "source": [
    "# Questions 2:\n",
    "\n",
    "Accept two lists of 5 elements each from the user.\n",
    "Convert them to numpy arrays. Concatenate these arrays and print it. Also sort these arrays and print it."
   ]
  },
  {
   "cell_type": "code",
   "execution_count": null,
   "metadata": {},
   "outputs": [],
   "source": [
    "import numpy as np\n",
    "l1=[]\n",
    "l2=[]\n",
    "print(\"Enter elements for first list: \")\n",
    "for i in range(0,5):\n",
    "    l1.append(int(input()))\n",
    "print(l1,end=\",\")\n",
    "\n",
    "print()\n",
    "\n",
    "print(\"Enter elements for second list: \")\n",
    "for j in range(0,5):\n",
    "    l2.append(int(input()))\n",
    "print(l2,end=\",\")\n",
    "print()\n",
    "\n",
    "print(\"The converted list into arrays are :\")\n",
    "\n",
    "arr1 = np.array(l1)    # convert l1 into an array arr1             \n",
    "arr2 = np.array(l2)    # convert l2 into an array arr2\n",
    "print(arr1)\n",
    "print(arr2)\n",
    "print()\n",
    "\n",
    "print(\"The concatenated arrays are: \")\n",
    "con=np.concatenate((arr1,arr2),axis=0)\n",
    "con\n",
    "\n",
    "print(\"Sorted arrays are: \")\n",
    "print(np.sort(l1))\n",
    "print(np.sort(l2))\n"
   ]
  },
  {
   "cell_type": "markdown",
   "metadata": {},
   "source": [
    "# Questions 3:\n",
    "\n",
    "Write a code snippet to find the dimensions of a ndarray and its size"
   ]
  },
  {
   "cell_type": "code",
   "execution_count": null,
   "metadata": {
    "scrolled": true
   },
   "outputs": [],
   "source": [
    "import numpy as np\n",
    "arr1=np.arange(12).reshape(3,2,2)\n",
    "print(arr1)\n",
    "\n",
    "print()\n",
    "\n",
    "print('The dimension of the array is: ',arr1.ndim)\n",
    "print()\n",
    "print('The size of the array is: ',arr1.size)"
   ]
  },
  {
   "cell_type": "markdown",
   "metadata": {},
   "source": [
    "# Questions 4:\n",
    "\n",
    "How to convert a 1D array into a 2D array? Demonstrate with the help of a code snippet\n",
    "\n",
    "Hint: np.newaxis, np.expand_dims"
   ]
  },
  {
   "cell_type": "code",
   "execution_count": null,
   "metadata": {},
   "outputs": [],
   "source": [
    "import numpy as np\n",
    "a = np.arange(10)\n",
    "print(a)\n",
    "print()\n",
    "x=a[np.newaxis,:] # 1D into 2D \n",
    "print(x)\n",
    "print()\n",
    "y=a[:,np.newaxis] # 1D into 2D of 1 column 10 rows \n",
    "print(y)\n",
    "print()\n",
    "a[np.newaxis,:].ndim\n",
    "a[:,np.newaxis].ndim"
   ]
  },
  {
   "cell_type": "markdown",
   "metadata": {},
   "source": [
    "# Questions 5:\n",
    "\n",
    "Consider two square numpy arrays. Stack them vertically and horizontally.\n",
    "\n",
    "Hint: Use vstack(), hstack"
   ]
  },
  {
   "cell_type": "code",
   "execution_count": null,
   "metadata": {},
   "outputs": [],
   "source": [
    "import numpy as np\n",
    "\n",
    "arr1 = np.array([1, 2, 3,4])\n",
    "\n",
    "arr2 = np.array([4, 5, 6])\n",
    "\n",
    "arr = np.hstack((arr1, arr2))\n",
    "\n",
    "print(arr)"
   ]
  },
  {
   "cell_type": "code",
   "execution_count": null,
   "metadata": {},
   "outputs": [],
   "source": [
    "import numpy as np\n",
    "\n",
    "arr1 = np.array([1, 2, 3])\n",
    "\n",
    "arr2 = np.array([4, 5, 6])\n",
    "\n",
    "arr = np.vstack((arr1, arr2))\n",
    "\n",
    "print(arr)"
   ]
  },
  {
   "cell_type": "markdown",
   "metadata": {},
   "source": [
    "# Questions 6:\n",
    "\n",
    "How to get unique items and counts of unique items?"
   ]
  },
  {
   "cell_type": "code",
   "execution_count": null,
   "metadata": {},
   "outputs": [],
   "source": [
    "# taking an input list \n",
    "list = [1, 2, 2, 5, 8, 4, 4, 8] \n",
    "  \n",
    "# taking an input list \n",
    "l1 = [] \n",
    "  \n",
    "# taking an counter \n",
    "count = 0\n",
    "  \n",
    "# travesing the array \n",
    "for i in list: \n",
    "    if i not in l1: \n",
    "        count += 1\n",
    "        l1.append(i) \n",
    "print(\"Unique items are: \",l1,end=\",\")\n",
    "print()\n",
    "# printing the output \n",
    "print(\"No of unique items are:\", count) \n"
   ]
  },
  {
   "cell_type": "code",
   "execution_count": null,
   "metadata": {},
   "outputs": [],
   "source": []
  }
 ],
 "metadata": {
  "kernelspec": {
   "display_name": "Python 3",
   "language": "python",
   "name": "python3"
  },
  "language_info": {
   "codemirror_mode": {
    "name": "ipython",
    "version": 3
   },
   "file_extension": ".py",
   "mimetype": "text/x-python",
   "name": "python",
   "nbconvert_exporter": "python",
   "pygments_lexer": "ipython3",
   "version": "3.8.3"
  }
 },
 "nbformat": 4,
 "nbformat_minor": 4
}
